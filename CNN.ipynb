{
 "cells": [
  {
   "cell_type": "code",
   "execution_count": 38,
   "metadata": {},
   "outputs": [],
   "source": [
    "#pip install opencv-python\n",
    "import numpy as np\n",
    "import matplotlib.pyplot as plt\n",
    "import os\n",
    "import cv2\n",
    "import numpy as np\n",
    "import matplotlib.pyplot as plt\n",
    "import os\n",
    "import cv2\n",
    "from tqdm import tqdm"
   ]
  },
  {
   "cell_type": "code",
   "execution_count": 39,
   "metadata": {},
   "outputs": [],
   "source": [
    "DATADIR = \"/home/weslley/Downloads/Projeto tcc/Processadas/Train\"\n",
    "DATADIR_VALIDACAO = \"/home/weslley/Downloads/Projeto tcc/Processadas/Validacao\"\n",
    "DATADIR_TEST = \"/home/weslley/Downloads/Projeto tcc/Processadas/Test\"\n",
    "\n",
    "CATEGORIES = [\"germinou\", \"naogerminou\"]\n",
    "\n"
   ]
  },
  {
   "cell_type": "code",
   "execution_count": null,
   "metadata": {},
   "outputs": [],
   "source": []
  },
  {
   "cell_type": "code",
   "execution_count": 40,
   "metadata": {},
   "outputs": [
    {
     "data": {
      "image/png": "[encoded data removed]",
      "text/plain": [
       "<Figure size 432x288 with 1 Axes>"
      ]
     },
     "metadata": {
      "needs_background": "light"
     },
     "output_type": "display_data"
    }
   ],
   "source": [
    "IMG_SIZE = 100\n",
    "\n",
    "new_array = cv2.resize(img_array, (IMG_SIZE, IMG_SIZE))\n",
    "plt.imshow(new_array, cmap='gray')\n",
    "plt.show()\n"
   ]
  },
  {
   "cell_type": "code",
   "execution_count": 41,
   "metadata": {},
   "outputs": [
    {
     "name": "stdout",
     "output_type": "stream",
     "text": [
      "(100, 100, 3)\n"
     ]
    }
   ],
   "source": [
    "print(new_array.shape)"
   ]
  },
  {
   "cell_type": "markdown",
   "metadata": {},
   "source": [
    "## Preparando a basa para treino"
   ]
  },
  {
   "cell_type": "code",
   "execution_count": 42,
   "metadata": {},
   "outputs": [
    {
     "name": "stderr",
     "output_type": "stream",
     "text": [
      "100%|██████████| 4255/4255 [00:10<00:00, 403.43it/s]\n",
      "100%|██████████| 4357/4357 [00:07<00:00, 564.80it/s]"
     ]
    },
    {
     "name": "stdout",
     "output_type": "stream",
     "text": [
      "8612\n"
     ]
    },
    {
     "name": "stderr",
     "output_type": "stream",
     "text": [
      "\n"
     ]
    }
   ],
   "source": [
    "\n",
    "training_data  =  [] \n",
    "\n",
    "def create_training_data():\n",
    "    for category in CATEGORIES:  # germinadas e não germinadas\n",
    "        # cria caminho para as sementes\n",
    "        path = os.path.join(DATADIR,category)  \n",
    "        # obtém a classificação (0 ou 1). 0 = Germinou 1 = Nãogerminou\n",
    "        class_num = CATEGORIES.index(category)  \n",
    "\n",
    "         # itere sobre cada imagem por \n",
    "        for img in tqdm(os.listdir(path)):  \n",
    "            try:\n",
    "                # convertido a matriz \n",
    "                img_array = cv2.imread(os.path.join(path,img) ) \n",
    "                # redimensione para normalizar o tamanho dos dados \n",
    "                new_array = cv2.resize(img_array, (IMG_SIZE, IMG_SIZE)) \n",
    "                 # adicione isso aos nossos dados de treinamento, \n",
    "                training_data.append([new_array, class_num]) \n",
    "                 # no interesse em manter a saída limpa ... \n",
    "            except Exception as e: \n",
    "                pass\n",
    "          # exceto OSError como e: \n",
    "            # print (\"OSErrroBad img provavelmente\", e, os.path.join ( path, img)) \n",
    "            #except Exceção como e: \n",
    "            # print (\"exceção geral\", e, os.path.join (path, img)) \n",
    "\n",
    "create_training_data()\n",
    "\n",
    "print(len(training_data))"
   ]
  },
  {
   "cell_type": "markdown",
   "metadata": {},
   "source": [
    "## Preparando a basa para validação"
   ]
  },
  {
   "cell_type": "code",
   "execution_count": 43,
   "metadata": {},
   "outputs": [
    {
     "name": "stderr",
     "output_type": "stream",
     "text": [
      "100%|██████████| 485/485 [00:01<00:00, 409.93it/s]\n",
      "100%|██████████| 489/489 [00:00<00:00, 501.95it/s]"
     ]
    },
    {
     "name": "stdout",
     "output_type": "stream",
     "text": [
      "974\n"
     ]
    },
    {
     "name": "stderr",
     "output_type": "stream",
     "text": [
      "\n"
     ]
    }
   ],
   "source": [
    "validacao_data  =  [] \n",
    "\n",
    "def create_validacao_data():\n",
    "    for category in CATEGORIES:\n",
    "        # cria caminho para as sementes\n",
    "        path = os.path.join(DATADIR_VALIDACAO,category)  \n",
    "        # obtém a classificação (0 ou 1). 0 = germinou 1 = NaoGerminou \n",
    "        class_num = CATEGORIES.index(category)  \n",
    "\n",
    "         # itere sobre cada imagem por \n",
    "        for img in tqdm(os.listdir(path)):  \n",
    "            try:\n",
    "                # convertido a matriz \n",
    "                img_array = cv2.imread(os.path.join(path,img) ) \n",
    "                # redimensione para normalizar o tamanho dos dados \n",
    "                new_array = cv2.resize(img_array, (IMG_SIZE, IMG_SIZE)) \n",
    "                 # adicione isso aos nossos dados de treinamento, \n",
    "                validacao_data.append([new_array, class_num]) \n",
    "                 # no interesse em manter a saída limpa ... \n",
    "            except Exception as e: \n",
    "                pass\n",
    "          # exceto OSError como e: \n",
    "            # print (\"OSErrroBad img provavelmente\", e, os.path.join ( path, img)) \n",
    "            #except Exceção como e: \n",
    "            # print (\"exceção geral\", e, os.path.join (path, img)) \n",
    "\n",
    "create_validacao_data()\n",
    "\n",
    "print(len(validacao_data))"
   ]
  },
  {
   "cell_type": "markdown",
   "metadata": {},
   "source": [
    "## Preparando a basa para teste"
   ]
  },
  {
   "cell_type": "code",
   "execution_count": 44,
   "metadata": {},
   "outputs": [
    {
     "name": "stderr",
     "output_type": "stream",
     "text": [
      "100%|██████████| 120/120 [00:00<00:00, 631.69it/s]\n",
      "100%|██████████| 122/122 [00:00<00:00, 645.66it/s]"
     ]
    },
    {
     "name": "stdout",
     "output_type": "stream",
     "text": [
      "242\n"
     ]
    },
    {
     "name": "stderr",
     "output_type": "stream",
     "text": [
      "\n"
     ]
    }
   ],
   "source": [
    "test_data  =  [] \n",
    "\n",
    "def create_test_data():\n",
    "    for category in CATEGORIES:  \n",
    "        # cria caminho para sementes\n",
    "        path = os.path.join(DATADIR_TEST,category)  \n",
    "        # obtém a classificação (0 ou 1). 0 = germinou 1 = Naogerminou\n",
    "        class_num = CATEGORIES.index(category)  \n",
    "\n",
    "         # itere sobre cada imagem por \n",
    "        for img in tqdm(os.listdir(path)):  \n",
    "            try:\n",
    "                # convertido a matriz \n",
    "                img_array = cv2.imread(os.path.join(path,img) ) \n",
    "                # redimensione para normalizar o tamanho dos dados \n",
    "                new_array = cv2.resize(img_array, (IMG_SIZE, IMG_SIZE)) \n",
    "                 # adicione isso aos nossos dados de treinamento, \n",
    "                test_data.append([new_array, class_num]) \n",
    "                 # no interesse em manter a saída limpa ... \n",
    "            except Exception as e: \n",
    "                pass\n",
    "          # exceto OSError como e: \n",
    "            # print (\"OSErrroBad img provavelmente\", e, os.path.join ( path, img)) \n",
    "            #except Exceção como e: \n",
    "            # print (\"exceção geral\", e, os.path.join (path, img)) \n",
    "\n",
    "create_test_data()\n",
    "\n",
    "print(len(test_data))"
   ]
  },
  {
   "cell_type": "markdown",
   "metadata": {},
   "source": [
    "## Embaralhando as imagens\n",
    "No momento, nossos dados são apenas todas as sementes que germinaram, depois todas as que não germinaram. Isso geralmente acabará causando problemas, pois, inicialmente, o classificador aprenderá a prever sempre as sementes que germinaram."
   ]
  },
  {
   "cell_type": "code",
   "execution_count": 45,
   "metadata": {},
   "outputs": [],
   "source": [
    "import random\n",
    "\n",
    "random.shuffle(training_data)\n",
    "random.shuffle(validacao_data)\n",
    "random.shuffle(test_data)"
   ]
  },
  {
   "cell_type": "markdown",
   "metadata": {},
   "source": [
    "Nossa training_dataé uma lista, o que significa que é mutável, por isso agora está bem embaralhada. Podemos confirmar isso repetindo algumas das amostras iniciais e imprimindo a classe."
   ]
  },
  {
   "cell_type": "code",
   "execution_count": 46,
   "metadata": {},
   "outputs": [
    {
     "name": "stdout",
     "output_type": "stream",
     "text": [
      "0\n",
      "1\n",
      "1\n",
      "0\n",
      "1\n",
      "0\n",
      "1\n",
      "0\n",
      "1\n",
      "0\n"
     ]
    }
   ],
   "source": [
    "for sample in training_data[:10]:\n",
    "    print(sample[1])"
   ]
  },
  {
   "cell_type": "markdown",
   "metadata": {},
   "source": [
    "Ótimo, nós temos os exemplos bem misturadas! Hora de fazer o nosso modelo!\n",
    "\n"
   ]
  },
  {
   "cell_type": "code",
   "execution_count": 47,
   "metadata": {},
   "outputs": [],
   "source": [
    "X = []\n",
    "y = []\n",
    "\n",
    "for features,label in training_data:\n",
    "    X.append(features)\n",
    "    y.append(label)\n",
    "\n",
    "#print(X[0].reshape(-1, IMG_SIZE, IMG_SIZE, 1))\n",
    "\n",
    "X = np.array(X).reshape(-1, IMG_SIZE, IMG_SIZE, 3)\n",
    "y= np.array(y)"
   ]
  },
  {
   "cell_type": "code",
   "execution_count": 48,
   "metadata": {},
   "outputs": [
    {
     "name": "stdout",
     "output_type": "stream",
     "text": [
      "1\n"
     ]
    }
   ],
   "source": [
    "print(y[6])"
   ]
  },
  {
   "cell_type": "code",
   "execution_count": 49,
   "metadata": {},
   "outputs": [],
   "source": [
    "X_val = []\n",
    "y_val = []\n",
    "\n",
    "for features,label in validacao_data:\n",
    "    X_val.append(features)\n",
    "    y_val.append(label)\n",
    "\n",
    "#print(X[0].reshape(-1, IMG_SIZE, IMG_SIZE, 1))\n",
    "\n",
    "X_val = np.array(X_val).reshape(-1, IMG_SIZE, IMG_SIZE, 3)\n",
    "X_val= X_val/255.0\n"
   ]
  },
  {
   "cell_type": "code",
   "execution_count": 50,
   "metadata": {},
   "outputs": [
    {
     "name": "stdout",
     "output_type": "stream",
     "text": [
      "0\n"
     ]
    }
   ],
   "source": [
    "print(y_val[1])"
   ]
  },
  {
   "cell_type": "code",
   "execution_count": 51,
   "metadata": {},
   "outputs": [],
   "source": [
    "X_test = []\n",
    "y_test = []\n",
    "\n",
    "for features,label in test_data:\n",
    "    X_test.append(features)\n",
    "    y_test.append(label)\n",
    "\n",
    "#print(X[0].reshape(-1, IMG_SIZE, IMG_SIZE, 1))\n",
    "\n",
    "X_test = np.array(X_test).reshape(-1, IMG_SIZE, IMG_SIZE, 3)\n",
    "X_test=X_test/255.0"
   ]
  },
  {
   "cell_type": "code",
   "execution_count": 52,
   "metadata": {},
   "outputs": [
    {
     "name": "stdout",
     "output_type": "stream",
     "text": [
      "[1, 1, 1, 0, 0, 1, 1, 0, 0, 1, 0, 1, 0, 0, 0, 0, 1, 1, 0, 1, 1, 0, 0, 0, 1, 0, 1, 0, 1, 1, 0, 0, 0, 1, 1, 0, 1, 0, 1, 0, 0, 0, 0, 0, 0, 1, 1, 1, 1, 1, 0, 0, 1, 0, 1, 1, 1, 1, 1, 0, 1, 0, 0, 0, 0, 1, 0, 0, 0, 1, 1, 0, 1, 0, 0, 0, 1, 1, 0, 0, 1, 1, 1, 1, 1, 1, 1, 0, 1, 0, 0, 1, 1, 1, 1, 1, 0, 0, 0, 1, 1, 0, 1, 1, 1, 0, 0, 0, 1, 1, 0, 1, 1, 1, 1, 0, 1, 0, 0, 1, 0, 1, 1, 1, 1, 0, 1, 0, 0, 0, 1, 0, 1, 1, 1, 1, 0, 0, 1, 0, 0, 0, 1, 1, 0, 1, 1, 0, 1, 1, 1, 1, 0, 1, 0, 0, 0, 0, 0, 0, 1, 0, 0, 0, 0, 1, 0, 0, 0, 1, 0, 0, 1, 1, 1, 0, 1, 0, 1, 0, 0, 1, 0, 0, 0, 0, 0, 1, 1, 1, 0, 0, 0, 1, 0, 0, 0, 0, 0, 1, 1, 1, 1, 1, 1, 1, 0, 1, 0, 1, 1, 1, 1, 0, 1, 1, 0, 1, 0, 1, 1, 1, 1, 1, 0, 0, 1, 0, 0, 0, 1, 1, 0, 0, 1, 0, 0, 1, 1, 0, 0, 0]\n"
     ]
    }
   ],
   "source": [
    "print((y_test))"
   ]
  },
  {
   "cell_type": "markdown",
   "metadata": {},
   "source": [
    "Salvando os dados, para que não precisemos continuar calculando-os sempre que quisermos usar o modelo de rede neural:\n",
    "\n"
   ]
  },
  {
   "cell_type": "code",
   "execution_count": 54,
   "metadata": {},
   "outputs": [],
   "source": [
    "import pickle\n",
    "\n",
    "pickle_out = open(\"X.pickle\",\"wb\")\n",
    "pickle.dump(X, pickle_out)\n",
    "pickle_out.close()\n",
    "\n",
    "pickle_out = open(\"y.pickle\",\"wb\")\n",
    "pickle.dump(y, pickle_out)\n",
    "pickle_out.close()"
   ]
  },
  {
   "cell_type": "markdown",
   "metadata": {},
   "source": [
    "Poderia ter salvo os dados de validação e teste\n",
    "### Sempre podemos carregá-lo em nosso script atual, ou um totalmente novo, fazendo:\n",
    "\n"
   ]
  },
  {
   "cell_type": "code",
   "execution_count": 55,
   "metadata": {},
   "outputs": [],
   "source": [
    "import pickle\n",
    "\n",
    "pickle_in = open(\"X.pickle\",\"rb\")\n",
    "X= pickle.load(pickle_in)\n",
    "\n",
    "pickle_in = open(\"y.pickle\",\"rb\")\n",
    "b = pickle.load(pickle_in)\n",
    "y = np.array(b)\n",
    "\n",
    "X = X/255.0\n"
   ]
  },
  {
   "cell_type": "code",
   "execution_count": null,
   "metadata": {},
   "outputs": [],
   "source": []
  },
  {
   "cell_type": "code",
   "execution_count": 29,
   "metadata": {},
   "outputs": [],
   "source": [
    "import tensorflow as tf\n",
    "from tensorflow.keras.datasets import cifar10\n",
    "from tensorflow.keras.preprocessing.image import ImageDataGenerator\n",
    "from tensorflow.keras.models import Sequential\n",
    "from tensorflow.keras.layers import Dense, Dropout, Activation, Flatten\n",
    "from tensorflow.keras.layers import Conv2D, MaxPooling2D"
   ]
  },
  {
   "cell_type": "code",
   "execution_count": 30,
   "metadata": {},
   "outputs": [
    {
     "name": "stdout",
     "output_type": "stream",
     "text": [
      "WARNING:tensorflow:From /home/weslley/anaconda3/lib/python3.7/site-packages/tensorflow_core/python/ops/resource_variable_ops.py:1630: calling BaseResourceVariable.__init__ (from tensorflow.python.ops.resource_variable_ops) with constraint is deprecated and will be removed in a future version.\n",
      "Instructions for updating:\n",
      "If using Keras pass *_constraint arguments to layers.\n"
     ]
    }
   ],
   "source": [
    "model = Sequential()\n",
    "\n",
    "model.add(Conv2D(64, (3,3), input_shape=X.shape[1:]))\n",
    "model.add(Activation('relu'))\n",
    "model.add(MaxPooling2D(pool_size=(2, 2)))\n",
    "\n",
    "model.add(Conv2D(64, (3, 3)))\n",
    "model.add(Activation('relu'))\n",
    "model.add(MaxPooling2D(pool_size=(2, 2)))\n",
    "\n",
    "\n",
    "model.add(Flatten())  # this converts our 3D feature maps to 1D feature vectors\n",
    "\n",
    "model.add(Dense(64))\n",
    "model.add(Activation('relu'))\n",
    "\n",
    "model.add(Dense(64))\n",
    "model.add(Activation('relu'))\n",
    "\n",
    "\n",
    "model.add(Dense(2))\n",
    "model.add(Activation('softmax'))\n",
    "\n",
    "model.compile(loss='sparse_categorical_crossentropy',\n",
    "              optimizer='adam',\n",
    "              metrics=['accuracy'])"
   ]
  },
  {
   "cell_type": "code",
   "execution_count": 56,
   "metadata": {},
   "outputs": [
    {
     "name": "stdout",
     "output_type": "stream",
     "text": [
      "Train on 8612 samples, validate on 974 samples\n",
      "Epoch 1/10\n",
      "8612/8612 - 78s - loss: 0.5695 - acc: 0.7015 - val_loss: 0.4707 - val_acc: 0.7977\n",
      "Epoch 2/10\n",
      "8612/8612 - 77s - loss: 0.4414 - acc: 0.7933 - val_loss: 0.4293 - val_acc: 0.7936\n",
      "Epoch 3/10\n",
      "8612/8612 - 74s - loss: 0.3697 - acc: 0.8269 - val_loss: 0.3891 - val_acc: 0.8172\n",
      "Epoch 4/10\n",
      "8612/8612 - 75s - loss: 0.3300 - acc: 0.8458 - val_loss: 0.3986 - val_acc: 0.8080\n",
      "Epoch 5/10\n",
      "8612/8612 - 75s - loss: 0.2874 - acc: 0.8705 - val_loss: 0.3411 - val_acc: 0.8409\n",
      "Epoch 6/10\n",
      "8612/8612 - 75s - loss: 0.2436 - acc: 0.8924 - val_loss: 0.3080 - val_acc: 0.8655\n",
      "Epoch 7/10\n",
      "8612/8612 - 76s - loss: 0.2236 - acc: 0.9047 - val_loss: 0.2945 - val_acc: 0.8573\n",
      "Epoch 8/10\n",
      "8612/8612 - 74s - loss: 0.1861 - acc: 0.9192 - val_loss: 0.3341 - val_acc: 0.8542\n",
      "Epoch 9/10\n",
      "8612/8612 - 74s - loss: 0.1588 - acc: 0.9353 - val_loss: 0.2577 - val_acc: 0.8932\n",
      "Epoch 10/10\n",
      "8612/8612 - 75s - loss: 0.1527 - acc: 0.9357 - val_loss: 0.2415 - val_acc: 0.8932\n"
     ]
    },
    {
     "data": {
      "text/plain": [
       "<tensorflow.python.keras.callbacks.History at 0x7f9f285eca10>"
      ]
     },
     "execution_count": 56,
     "metadata": {},
     "output_type": "execute_result"
    }
   ],
   "source": [
    "\n",
    "#early_stopping= tf.keras.callbacks.EarlyStopping(patience=2)\n",
    "model.fit(X, y, batch_size=100, epochs=10,validation_data=(X_val,y_val),verbose=2)\n",
    " "
   ]
  },
  {
   "cell_type": "code",
   "execution_count": 57,
   "metadata": {},
   "outputs": [
    {
     "name": "stdout",
     "output_type": "stream",
     "text": [
      "1\n"
     ]
    }
   ],
   "source": [
    "print(y_test[24])"
   ]
  },
  {
   "cell_type": "code",
   "execution_count": 58,
   "metadata": {},
   "outputs": [
    {
     "name": "stdout",
     "output_type": "stream",
     "text": [
      "242/242 [==============================] - 1s 6ms/sample - loss: 0.2607 - acc: 0.9050\n"
     ]
    }
   ],
   "source": [
    "test_loss, test_accuracy=model.evaluate(X_test,y_test)"
   ]
  },
  {
   "cell_type": "code",
   "execution_count": 59,
   "metadata": {},
   "outputs": [],
   "source": [
    "classe = model.predict(X_test)"
   ]
  },
  {
   "cell_type": "code",
   "execution_count": 60,
   "metadata": {},
   "outputs": [
    {
     "name": "stdout",
     "output_type": "stream",
     "text": [
      "[9.5959747e-04 9.9904042e-01]\n"
     ]
    }
   ],
   "source": [
    "print(classe[24])"
   ]
  },
  {
   "cell_type": "code",
   "execution_count": null,
   "metadata": {},
   "outputs": [],
   "source": []
  }
 ],
 "metadata": {
  "kernelspec": {
   "display_name": "Python 3",
   "language": "python",
   "name": "python3"
  },
  "language_info": {
   "codemirror_mode": {
    "name": "ipython",
    "version": 3
   },
   "file_extension": ".py",
   "mimetype": "text/x-python",
   "name": "python",
   "nbconvert_exporter": "python",
   "pygments_lexer": "ipython3",
   "version": "3.7.4"
  }
 },
 "nbformat": 4,
 "nbformat_minor": 2
}
